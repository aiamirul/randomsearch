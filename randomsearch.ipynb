{
 "cells": [
  {
   "cell_type": "markdown",
   "metadata": {},
   "source": [
    "# 1.  Create Initial Sample\n"
   ]
  },
  {
   "cell_type": "code",
   "execution_count": 1,
   "metadata": {},
   "outputs": [
    {
     "name": "stdout",
     "output_type": "stream",
     "text": [
      "Data already initialized, Please delete Previous config files to reinitialize /Configs--G0\n"
     ]
    }
   ],
   "source": [
    "expname = \"AutoZero\"\n",
    "import tuneutil as tutl\n",
    "import time\n",
    "import shutil \n",
    "import pathlib\n",
    "#Cleanup\n",
    "#tutl.ClearoldExperimentDATA(expname)\n",
    "#CopyFiles\n",
    "try:\n",
    "    productionSRC = r\"C:\\Users\\Amir\\Documents\\GitHub\\mzmses\\randomsearch\\randomsearch\\currentDet\"\n",
    "    n_samples = 10\n",
    "    samples = []\n",
    "    trackid = 45\n",
    "    if(len(str(trackid)) == 1):\n",
    "        trackidSTR = \"00\"+str(trackid)\n",
    "    elif(len(str(trackid)) == 2):\n",
    "        trackidSTR = \"0\"+str(trackid)\n",
    "    else:\n",
    "        trackidSTR = str(trackid)\n",
    "\n",
    "    src = r\"{}\\{}\".format(productionSRC,trackidSTR)\n",
    "    shutil.copytree(src, expname)\n",
    "    generation = 0\n",
    "    for i in range(n_samples):\n",
    "        #print(i+1)\n",
    "        x = tutl.MakeSampleRandom(trackid=trackidSTR,precision=1)\n",
    "        samples.append(x)\n",
    "        samples_path = r\"{}/Configs--G{}/{}\".format(expname,generation,str(i))\n",
    "        if not os.path.exists(samples_path):\n",
    "            os.makedirs(samples_path, exist_ok=True)\n",
    "        with open(samples_path+\"/config.json\", \"w\") as outfile:\n",
    "            outfile.write(x)\n",
    "except:\n",
    "    print(\"Data already initialized, Please delete Previous config files to reinitialize /Configs--G0\")\n"
   ]
  },
  {
   "cell_type": "code",
   "execution_count": 7,
   "metadata": {},
   "outputs": [
    {
     "name": "stdout",
     "output_type": "stream",
     "text": [
      "Current Generateion: 7\n",
      "load all scores\n",
      "AutoZero/Configs--G7/**/*.csv\n",
      "['AutoZero/Configs--G7\\\\700600660906009066\\\\result.csv', 'AutoZero/Configs--G7\\\\700600906606006609\\\\result.csv']\n",
      "AutoZero/Configs--G7\\700600660906009066\\result.csv\n",
      "AutoZero/Configs--G7\\700600906606006609\\result.csv\n",
      "Top 10\n",
      "0              Config  Score\n",
      "1  700600660906009066   0.36\n",
      "2  700600906606006609   0.36\n",
      "load all scores\n",
      "700600660906009066\n",
      "To be married:  700600660906009066\n",
      "700600906606006609\n",
      "700600906606006609\n",
      "To be married:  700600906606006609\n",
      "700600660906009066\n",
      "bstall_corner_conf\n",
      "Mutated 0.7 -> 0.7999999999999999\n"
     ]
    }
   ],
   "source": [
    "import os, json, uuid\n",
    "import random\n",
    "import glob\n",
    "active_genes = [ \n",
    "\"horse_max_age\" ,\n",
    "\"horse_min_hit\" ,\n",
    "\"full_max_age\" ,\n",
    "\"full_min_hit\" ,\n",
    "\"fstall_normal_conf\" ,\n",
    "\"fstall_corner_conf\" ,\n",
    "\"bstall_normal_conf\" ,\n",
    "\"bstall_corner_conf\" ,\n",
    "\"counter_regulator\" ,\n",
    "\"flow_thresh\" ,\n",
    " ]\n",
    "envFolder = expname\n",
    "g = glob.glob(envFolder+r\"/*--G*\")\n",
    "current_gen = len(g)-1\n",
    "samples = glob.glob(envFolder+r\"/*--G\"+str(current_gen)+r\"/*\")\n",
    "#Check run samples \n",
    "completed = 0\n",
    "for sample in samples:\n",
    "    x = glob.glob(sample+r\"/*.csv\")\n",
    "    #print(sample,len(x))\n",
    "    if(len(x) == 1):\n",
    "        completed = completed + 1 \n",
    "        continue\n",
    "    else:\n",
    "        tutl.runSim(sample)\n",
    "\n",
    "#Once all samples has results.csv\n",
    "if(completed == len(samples)):\n",
    "    print(\"Current Generateion: {}\".format(len(g)-1))\n",
    "    tutl.Generate_new_gen(envFolder,active_genes,current_gen=current_gen,nextGenRate=1.0)\n",
    "else:\n",
    "    print(\"incomplete results, rerun code\")"
   ]
  },
  {
   "cell_type": "code",
   "execution_count": 3,
   "metadata": {},
   "outputs": [],
   "source": [
    "genes = [\"track\" ,\n",
    "\"horse_max_age\" ,\n",
    "\"horse_min_hit\" ,\n",
    "\"full_max_age\" ,\n",
    "\"full_min_hit\" ,\n",
    "\"fstall_normal_conf\" ,\n",
    "\"fstall_corner_conf\" ,\n",
    "\"bstall_normal_conf\" ,\n",
    "\"bstall_corner_conf\" ,\n",
    "\"counter_regulator\" ,\n",
    "\"activate_flage\" ,\n",
    "\"flow_thresh\" ,\n",
    "\"about_thresh\" ,\n",
    "\"horse_fraction\" ,\n",
    "\"Fn_delay\" ,\n",
    "\"Ld_delay\" ,\n",
    "\"activate_bl\" ,\n",
    "\"objects_confidence\" ,\n",
    "\"modelname\" ,]"
   ]
  },
  {
   "cell_type": "code",
   "execution_count": null,
   "metadata": {},
   "outputs": [],
   "source": [
    "\n",
    "    "
   ]
  },
  {
   "cell_type": "code",
   "execution_count": null,
   "metadata": {},
   "outputs": [],
   "source": []
  }
 ],
 "metadata": {
  "kernelspec": {
   "display_name": "frt",
   "language": "python",
   "name": "frt"
  },
  "language_info": {
   "codemirror_mode": {
    "name": "ipython",
    "version": 3
   },
   "file_extension": ".py",
   "mimetype": "text/x-python",
   "name": "python",
   "nbconvert_exporter": "python",
   "pygments_lexer": "ipython3",
   "version": "3.6.13"
  },
  "orig_nbformat": 4
 },
 "nbformat": 4,
 "nbformat_minor": 2
}
