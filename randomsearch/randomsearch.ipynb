{
 "cells": [
  {
   "cell_type": "code",
   "execution_count": 1,
   "metadata": {},
   "outputs": [],
   "source": [
    "import random\n",
    "import numpy as np\n",
    "import json\n",
    "\n",
    "\n",
    "def optimize(function, dimensions, lower_boundary, upper_boundary, max_iter, maximize=False):\n",
    "    best_solution = np.array([float()] * dimensions)\n",
    "\n",
    "    for i in range(dimensions):\n",
    "        best_solution[i] = random.uniform(lower_boundary[i], upper_boundary[i])\n",
    "\n",
    "    for _ in range(max_iter):\n",
    "\n",
    "        solution1 = function(best_solution)\n",
    "\n",
    "        new_solution = [lower_boundary[d] + random.random() * (upper_boundary[d] - lower_boundary[d]) for d in\n",
    "                        range(dimensions)]\n",
    "\n",
    "        if np.greater_equal(new_solution, lower_boundary).all() and np.less_equal(new_solution, upper_boundary).all():\n",
    "            solution2 = function(new_solution)\n",
    "        elif maximize:\n",
    "            solution2 = -100000.0\n",
    "        else:\n",
    "            solution2 = 100000.0\n",
    "\n",
    "        if solution2 > solution1 and maximize:\n",
    "            best_solution = new_solution\n",
    "        elif solution2 < solution1 and not maximize:\n",
    "            best_solution = new_solution\n",
    "\n",
    "    best_fitness = function(best_solution)\n",
    "\n",
    "    return best_fitness, best_solution\n",
    "def ClearoldExperimentDATA(expname):\n",
    "    CurrentPath = pathlib.Path().parent.resolve()\n",
    "    try: \n",
    "        oldpath = r\"{}/{}\".format(CurrentPath,expname)\n",
    "        print(\"Deleting {}\".format(oldpath))\n",
    "        shutil.rmtree(oldpath)\n",
    "    except:\n",
    "        print(\"No Files found, Skipping delete\")\n",
    "\n",
    "\n",
    "def MakeSampleRandom(trackid=1, precision=2,):\n",
    "\n",
    "        \n",
    "    N=precision\n",
    "    x = {\n",
    "        \"param\": [\n",
    "            {\n",
    "                \"track\": trackidSTR,\n",
    "                \"horse_max_age\": random.randint(10,40), \n",
    "                \"horse_min_hit\":random.randint(5,40),\n",
    "                \"full_max_age\": random.randint(10,40),\n",
    "                \"full_min_hit\": random.randint(10,40),\n",
    "                \"fstall_normal_conf\": round(random.uniform(0.5,0.9), N),\n",
    "                \"fstall_corner_conf\": round(random.uniform(0.4,0.8), N),\n",
    "                \"bstall_normal_conf\": round(random.uniform(0.4,0.8), N),\n",
    "                \"bstall_corner_conf\": round(random.uniform(0.4,0.9), N),\n",
    "                \"counter_regulator\": round(random.uniform(0.4,0.8), N),\n",
    "                \"activate_flage\": 1,\n",
    "                \"flow_thresh\": 30,\n",
    "                \"about_thresh\":2500,\n",
    "                \"horse_fraction\":round(random.uniform(0.10,0.25), 2),\n",
    "                \"Fn_delay\":[91,random.randint(3, 9)],\n",
    "                \"Ld_delay\":[91,random.randint(10, 50),\n",
    "                            random.randint(4, 25)],\n",
    "                \"activate_bl\": 1,\n",
    "                \"objects_confidence\": [\n",
    "                    round(random.uniform(0.25,0.50), 2),\n",
    "                    0.2,\n",
    "                    0.2,\n",
    "                    0.3,\n",
    "                    0.1,\n",
    "                    0.3,\n",
    "                    0.3,\n",
    "                    0.3,\n",
    "                    0.5,\n",
    "                    0.5,\n",
    "                    0.5,\n",
    "                    0.98\n",
    "                ],\n",
    "                \"modelname\": \"ef-d0-v2\"\n",
    "            }\n",
    "        ]\n",
    "    }\n",
    "    return json.dumps(x)"
   ]
  },
  {
   "cell_type": "code",
   "execution_count": 2,
   "metadata": {},
   "outputs": [
    {
     "name": "stdout",
     "output_type": "stream",
     "text": [
      "3.999314153207934 , [0.01613213083778753, 0.020630102925057514]\n"
     ]
    }
   ],
   "source": [
    "import randomsearch as rs\n",
    "def your_function(x):\n",
    "    return -(x[0] ** 2 + x[1] ** 2) + 4   \n",
    "a, b = rs.optimize(function=your_function, dimensions=2, lower_boundary=[-14, -14], upper_boundary= [10, 10], max_iter=10000, maximize=True)\n",
    "print(a, \",\", b)"
   ]
  },
  {
   "cell_type": "markdown",
   "metadata": {},
   "source": [
    "# Sample Creater\n"
   ]
  },
  {
   "cell_type": "code",
   "execution_count": 3,
   "metadata": {},
   "outputs": [
    {
     "name": "stdout",
     "output_type": "stream",
     "text": [
      "Deleting C:\\Users\\Amir\\Documents\\GitHub\\mzmses\\randomsearch\\randomsearch/Experiment1\n",
      "No Files found, Skipping delete\n"
     ]
    }
   ],
   "source": [
    "import time\n",
    "import shutil \n",
    "import pathlib\n",
    "expname = \"Experiment1\"\n",
    "#Cleanup\n",
    "ClearoldExperimentDATA(expname)\n",
    "#CopyFiles\n",
    "productionSRC = r\"C:\\Users\\Amir\\Documents\\GitHub\\mzmses\\randomsearch\\randomsearch\\currentDet\"\n",
    "\n",
    "n_samples = 10\n",
    "samples = []\n",
    "\n",
    "trackid = 45\n",
    "if(len(str(trackid)) == 1):\n",
    "    trackidSTR = \"00\"+str(trackid)\n",
    "elif(len(str(trackid)) == 2):\n",
    "    trackidSTR = \"0\"+str(trackid)\n",
    "else:\n",
    "    trackidSTR = str(trackid)\n",
    "src = r\"{}\\{}\".format(productionSRC,trackidSTR)\n",
    "shutil.copytree(src, expname)\n",
    "\n",
    "for i in range(n_samples):\n",
    "    #print(i+1)\n",
    "    x = MakeSampleRandom(trackid=trackidSTR,precision=1)\n",
    "    samples.append(x)\n",
    "    samples_path = r\"{}/Configs/{}\".format(expname,str(i))\n",
    "    if not os.path.exists(samples_path):\n",
    "        os.makedirs(samples_path, exist_ok=True)\n",
    "    with open(samples_path+\"/config.json\", \"w\") as outfile:\n",
    "        outfile.write(x)"
   ]
  },
  {
   "cell_type": "code",
   "execution_count": 12,
   "metadata": {},
   "outputs": [
    {
     "data": {
      "text/plain": [
       "4"
      ]
     },
     "execution_count": 12,
     "metadata": {},
     "output_type": "execute_result"
    }
   ],
   "source": [
    "import numpy as np\n",
    "X = np.load('res.npy', mmap_mode='r')\n",
    "len(X)\n"
   ]
  },
  {
   "cell_type": "code",
   "execution_count": 39,
   "metadata": {},
   "outputs": [
    {
     "data": {
      "text/plain": [
       "[['045', '2022100904504', '255.760', '244.0', '6', '0', '217.0', 'v1L1'],\n",
       " ['045', '2022100904503', '113.760', '102.0', '7', '88', '139.6', 'v1L1'],\n",
       " ['045', '2022062704504', '157.390', '157.39', '14', '408', '175.0', 'v1L1'],\n",
       " ['045', '2021062804501', '101.501', '101.501', '15', '228', '177.2', 'v1L11']]"
      ]
     },
     "execution_count": 39,
     "metadata": {},
     "output_type": "execute_result"
    }
   ],
   "source": [
    "restack = []\n",
    "for x in range(len(X)):\n",
    "    resNUmbers = []\n",
    "    for i in range(8):\n",
    "        resNUmbers.append(X[x][0][i])\n",
    "    restack.append(resNUmbers)\n",
    "restack"
   ]
  },
  {
   "cell_type": "code",
   "execution_count": 242,
   "metadata": {},
   "outputs": [],
   "source": [
    "import glob\n",
    "import pandas as pd\n",
    "def ResultsAnalysis(experimentFolder):\n",
    "    resStack = glob.glob(experimentFolder+r\"/**/*.csv\")\n",
    "    for x in resStack[0:1]:\n",
    "        dfx = pd.DataFrame(x)\n",
    "        print(x)\n",
    "def GetConfigScore(dfres):\n",
    "    Tscore = 0\n",
    "    for t in dfres['trigger']:\n",
    "        s = 0\n",
    "        #MISSS \n",
    "        if(t < 12):\n",
    "            s = 0\n",
    "            continue\n",
    "\n",
    "        if(t > 100):\n",
    "            s = max((300-t)/400,0.25)\n",
    "            # 50% IS MAX SCORE FOR \n",
    "        else:\n",
    "            s = (113 - t)/100\n",
    "        #print(t,s)\n",
    "        Tscore += s\n",
    "    return Tscore/(len(dfres))"
   ]
  },
  {
   "cell_type": "code",
   "execution_count": 249,
   "metadata": {},
   "outputs": [
    {
     "name": "stdout",
     "output_type": "stream",
     "text": [
      "Top 10\n"
     ]
    },
    {
     "data": {
      "text/html": [
       "<div>\n",
       "<style scoped>\n",
       "    .dataframe tbody tr th:only-of-type {\n",
       "        vertical-align: middle;\n",
       "    }\n",
       "\n",
       "    .dataframe tbody tr th {\n",
       "        vertical-align: top;\n",
       "    }\n",
       "\n",
       "    .dataframe thead th {\n",
       "        text-align: right;\n",
       "    }\n",
       "</style>\n",
       "<table border=\"1\" class=\"dataframe\">\n",
       "  <thead>\n",
       "    <tr style=\"text-align: right;\">\n",
       "      <th></th>\n",
       "      <th>Config</th>\n",
       "      <th>Score</th>\n",
       "    </tr>\n",
       "  </thead>\n",
       "  <tbody>\n",
       "    <tr>\n",
       "      <th>1</th>\n",
       "      <td>0</td>\n",
       "      <td>0.39</td>\n",
       "    </tr>\n",
       "    <tr>\n",
       "      <th>2</th>\n",
       "      <td>1</td>\n",
       "      <td>0.39</td>\n",
       "    </tr>\n",
       "    <tr>\n",
       "      <th>3</th>\n",
       "      <td>2</td>\n",
       "      <td>0.39</td>\n",
       "    </tr>\n",
       "    <tr>\n",
       "      <th>4</th>\n",
       "      <td>3</td>\n",
       "      <td>0.39</td>\n",
       "    </tr>\n",
       "    <tr>\n",
       "      <th>5</th>\n",
       "      <td>4</td>\n",
       "      <td>0.39</td>\n",
       "    </tr>\n",
       "    <tr>\n",
       "      <th>6</th>\n",
       "      <td>5</td>\n",
       "      <td>0.39</td>\n",
       "    </tr>\n",
       "    <tr>\n",
       "      <th>7</th>\n",
       "      <td>6</td>\n",
       "      <td>0.39</td>\n",
       "    </tr>\n",
       "    <tr>\n",
       "      <th>8</th>\n",
       "      <td>7</td>\n",
       "      <td>0.39</td>\n",
       "    </tr>\n",
       "    <tr>\n",
       "      <th>9</th>\n",
       "      <td>8</td>\n",
       "      <td>0.39</td>\n",
       "    </tr>\n",
       "    <tr>\n",
       "      <th>10</th>\n",
       "      <td>9</td>\n",
       "      <td>0.39</td>\n",
       "    </tr>\n",
       "    <tr>\n",
       "      <th>11</th>\n",
       "      <td>9999</td>\n",
       "      <td>0.73</td>\n",
       "    </tr>\n",
       "  </tbody>\n",
       "</table>\n",
       "</div>"
      ],
      "text/plain": [
       "0  Config  Score\n",
       "1       0   0.39\n",
       "2       1   0.39\n",
       "3       2   0.39\n",
       "4       3   0.39\n",
       "5       4   0.39\n",
       "6       5   0.39\n",
       "7       6   0.39\n",
       "8       7   0.39\n",
       "9       8   0.39\n",
       "10      9   0.39\n",
       "11   9999   0.73"
      ]
     },
     "execution_count": 249,
     "metadata": {},
     "output_type": "execute_result"
    }
   ],
   "source": [
    "\n",
    "from pathlib import Path\n",
    "experimentFolder = r\"C:\\Users\\Amir\\Documents\\GitHub\\mzmses\\randomsearch\\randomsearch\\Experiment\\Configs\"\n",
    "resStack = glob.glob(experimentFolder+r\"/**/*.csv\")\n",
    "scores = np.array((\"Config\",\"Score\"))\n",
    "for x in resStack:\n",
    "    configID = (Path(x).resolve().parent.name)\n",
    "    dfx = pd.read_csv(x)\n",
    "    #print(dfx)\n",
    "    score = GetConfigScore(dfx)\n",
    "    #print(configID,\": \",score)\n",
    "    a = np.array((configID,score))\n",
    "    scores = np.vstack((scores,a))\n",
    "df = pd.DataFrame(scores)\n",
    "df.columns = df.iloc[0]\n",
    "df = df[1:]\n",
    "df['Score'] = df['Score'].astype(float)\n",
    "df['Score'] = df['Score'].round(2)\n",
    "\n",
    "print(\"Top 10\")\n",
    "df[df['Score'] > 0.00].sort_values('Score').head(20)\n",
    "df.to_csv('ConfigScores.csv',index=False)\n",
    "df"
   ]
  },
  {
   "cell_type": "code",
   "execution_count": null,
   "metadata": {},
   "outputs": [],
   "source": []
  },
  {
   "cell_type": "code",
   "execution_count": null,
   "metadata": {},
   "outputs": [],
   "source": []
  }
 ],
 "metadata": {
  "kernelspec": {
   "display_name": "frt",
   "language": "python",
   "name": "frt"
  },
  "language_info": {
   "codemirror_mode": {
    "name": "ipython",
    "version": 3
   },
   "file_extension": ".py",
   "mimetype": "text/x-python",
   "name": "python",
   "nbconvert_exporter": "python",
   "pygments_lexer": "ipython3",
   "version": "3.6.13"
  },
  "orig_nbformat": 4
 },
 "nbformat": 4,
 "nbformat_minor": 2
}
